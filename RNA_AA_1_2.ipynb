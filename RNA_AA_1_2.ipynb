{
  "nbformat": 4,
  "nbformat_minor": 0,
  "metadata": {
    "colab": {
      "name": "RNA-AA_1_2.ipynb",
      "provenance": [],
      "collapsed_sections": [],
      "include_colab_link": true
    },
    "kernelspec": {
      "name": "python3",
      "display_name": "Python 3"
    },
    "language_info": {
      "name": "python"
    }
  },
  "cells": [
    {
      "cell_type": "markdown",
      "metadata": {
        "id": "view-in-github",
        "colab_type": "text"
      },
      "source": [
        "<a href=\"https://colab.research.google.com/github/danilo-uea/RNA-2021.1-AA1.2/blob/main/RNA_AA_1_2.ipynb\" target=\"_parent\"><img src=\"https://colab.research.google.com/assets/colab-badge.svg\" alt=\"Open In Colab\"/></a>"
      ]
    },
    {
      "cell_type": "markdown",
      "metadata": {
        "id": "1Ok_1jxEk3L6"
      },
      "source": [
        "# Redes Neurais Artificiais - Atividade Avaliativa 1.2\n",
        "> Criado por: Danilo Frazão & Yasser Tuma\n",
        "\n",
        "\n"
      ]
    },
    {
      "cell_type": "code",
      "metadata": {
        "id": "a03rnx05qRD7"
      },
      "source": [
        "import pandas as pd\n",
        "import numpy as np"
      ],
      "execution_count": 192,
      "outputs": []
    },
    {
      "cell_type": "markdown",
      "metadata": {
        "id": "6rojGRaUorE3"
      },
      "source": [
        "---\n",
        "## Ocorrências:\n",
        "  O DataSet tem no total 243.984 casos.\n",
        "\n",
        "## Atributos\n",
        "  Os atributos deste DataSet são:\n",
        "\n",
        "*   Data em que houve alguma evolução;\n",
        "*   Data em que ocorreu a notificação;\n",
        "*   Data em que foram notados os sintomas;\n",
        "*   Classificação (resultado dos exames);\n",
        "*   Conclusão (estado final do paciente);\n",
        "*   Origem dos exames;\n",
        "*   Existencia de comorbidade cardiaca;\n",
        "*   Existencia de comorbidade cromossomica;\n",
        "*   Existencia de comorbidade diabetes;\n",
        "*   Existencia de comorbidade hemato;\n",
        "*   Existencia de comorbidade imunologica;\n",
        "*   Existencia de comorbidade neurologica;\n",
        "*   Existencia de comorbidade obessidade;\n",
        "*   Existencia de comorbidade renal;\n",
        "*   Existencia de comorbidade respiratoria;\n",
        "*   Criterio de avaliação dos exames;\n",
        "*   Etnia do indivíduo;\n",
        "*   Evoluçao do seu quadro clínico;\n",
        "*   Idade do indivíduo;\n",
        "*   Faixa etária do indivíduo;\n",
        "*   Se o indivíduo é uma gestante;\n",
        "*   Se o indivíduo é um profissional da saúde;\n",
        "*   Raça do indivíduo;\n",
        "*   se notificação;\n",
        "*   Sexo do indivíduo;\n",
        "*   Existencia do sintoma de dispneia;\n",
        "*   Existencia do sintoma de febre;\n",
        "*   Existencia de sintomas na garganta;\n",
        "*   Existencia do sintoma de tosse;\n",
        "*   Existencia de outros sintomas;\n",
        "*   Tipo do SRAG;\n",
        "*   Número de testes de anticorpos realizados;\n",
        "*   Número de testes de antigeno realizados;\n",
        "*   Número de testes PCR realizados;\n",
        "*   Bairro em que o indivíduo reside;\n",
        "*   Bairro em que o indivíduo vive baseando-se no mapa;\n",
        "*   Distrito em que a pessoa reside;\n",
        "*   Taxa de transmição;"
      ]
    },
    {
      "cell_type": "code",
      "metadata": {
        "id": "tqVvc9x1g5yD"
      },
      "source": [
        "# from google.colab import drive\n",
        "# drive.mount('/content/drive')"
      ],
      "execution_count": 193,
      "outputs": []
    },
    {
      "cell_type": "code",
      "metadata": {
        "id": "fnzdyNd6n7TM"
      },
      "source": [
        "# covid = pd.read_csv(\"/content/drive/My Drive/Colab Notebooks/RNA/Manaus.csv\", sep = \";\") # Yasser\n",
        "covid = pd.read_csv(\"/content/drive/MyDrive/dados_colab/RNA/Manaus.csv\", sep = \";\", low_memory=False) # Danilo"
      ],
      "execution_count": 194,
      "outputs": []
    },
    {
      "cell_type": "code",
      "metadata": {
        "id": "H31UjfDhs7oT",
        "colab": {
          "base_uri": "https://localhost:8080/"
        },
        "outputId": "1403d323-7b6b-4123-e266-68df2cdae2fb"
      },
      "source": [
        "print('O arquivo possui {} atributos no total:'.format(len(covid.columns)))\n",
        "atributos = covid.columns.values\n",
        "for i in range(len(atributos)):\n",
        "  print(atributos[i])"
      ],
      "execution_count": 195,
      "outputs": [
        {
          "output_type": "stream",
          "name": "stdout",
          "text": [
            "O arquivo possui 39 atributos no total:\n",
            "_dt_evolucao\n",
            "_dt_notificacao\n",
            "_dt_sintomas\n",
            "_classificacao\n",
            "_conclusao\n",
            "_origem\n",
            "_comorb_cardio\n",
            "_comorb_cromossomica\n",
            "_comorb_diabetes\n",
            "_comorb_hemato\n",
            "_comorb_hepatica\n",
            "_comorb_imuno\n",
            "_comorb_neurologica\n",
            "_comorb_obessidade\n",
            "_comorb_renal\n",
            "_comorb_respiratoria\n",
            "_criterio\n",
            "_etnia\n",
            "_evolução\n",
            "_idade\n",
            "_faixa etária\n",
            "_gestante\n",
            "_profiss_saude\n",
            "_raca\n",
            "_se_notificacao\n",
            "_sexo\n",
            "_sintoma_dispneia\n",
            "_sintoma_febre\n",
            "_sintoma_garganta\n",
            "_sintoma_tosse\n",
            "_sintoma_outros\n",
            "_srag\n",
            "_teste_anticorpo\n",
            "_teste_antigeno\n",
            "_teste_pcr\n",
            "_bairro\n",
            "_bairro_mapa\n",
            "_distrito\n",
            "_taxa\n"
          ]
        }
      ]
    },
    {
      "cell_type": "markdown",
      "metadata": {
        "id": "J4edGNC8zCJ4"
      },
      "source": [
        "---\n",
        "## Limpeza dos dados\n",
        "  Para esta atividade, iremos apenas usar os casos cuja a classificação sejam de casos confirmados, o DataSet apresenta no total 80420 casos confirmados. O primeiro caso confirmado neste DataSet foi em 16 de Fevereiro de 2020, e o ultimo caso confirmado foi em 29 de Dezembro de 2020.\n",
        "\n",
        "  Para este trabalho, foram removidas colunas que não serão uteis para o escopo das atividades e os casos que apresentam algum dado faltante. \n",
        "  Restaram apenas 9 colunas (_dt_notificacao, _classificacao, _conclusao, _idade, _sexo, _teste_anticorpo, _teste_antigeno, _teste_pcr e _bairro), e 246 casos.\n",
        "\n",
        "\n"
      ]
    },
    {
      "cell_type": "code",
      "metadata": {
        "id": "rl6hzOwTol51"
      },
      "source": [
        "covid = covid[covid[\"_classificacao\"] == \"Confirmado\"]"
      ],
      "execution_count": 196,
      "outputs": []
    },
    {
      "cell_type": "code",
      "metadata": {
        "id": "gnn7bH1xtcQ7",
        "colab": {
          "base_uri": "https://localhost:8080/"
        },
        "outputId": "8130f3e2-f6f1-40c2-eb20-6ae3f7173d23"
      },
      "source": [
        "print('Um total de {} casos confirmados'.format(len(covid)))"
      ],
      "execution_count": 197,
      "outputs": [
        {
          "output_type": "stream",
          "name": "stdout",
          "text": [
            "Um total de 80420 casos confirmados\n"
          ]
        }
      ]
    },
    {
      "cell_type": "code",
      "metadata": {
        "id": "vjOrE9eTm7eD",
        "colab": {
          "base_uri": "https://localhost:8080/"
        },
        "outputId": "4998046d-85ae-4310-db82-9250015c27d0"
      },
      "source": [
        "dates = covid['_dt_notificacao'].dropna() # Exclui linhas com elementos vazios ou nulos\n",
        "dates = pd.to_datetime(dates, format='%d/%m/%Y %H:%M')\n",
        "dates = dates.sort_values()\n",
        "primeiro = dates.iloc[0]\n",
        "ultimo = dates.iloc[-1]\n",
        "print(\"Data do primeiro caso notificado: \")\n",
        "print(primeiro)\n",
        "print(\"Data do primeiro caso notificado: \")\n",
        "print(ultimo)"
      ],
      "execution_count": 198,
      "outputs": [
        {
          "output_type": "stream",
          "name": "stdout",
          "text": [
            "Data do primeiro caso notificado: \n",
            "2020-02-16 00:00:00\n",
            "Data do primeiro caso notificado: \n",
            "2020-12-29 00:00:00\n"
          ]
        }
      ]
    },
    {
      "cell_type": "code",
      "metadata": {
        "id": "yzTYppt4LNZq",
        "colab": {
          "base_uri": "https://localhost:8080/"
        },
        "outputId": "7aac9a1d-a4ef-4662-a634-0c67145c5fe9"
      },
      "source": [
        "#removendo as colunas e as linhas com elementos nulos, sobraram apenas 240 linhas\n",
        "if (len(covid.columns.values) == 39):\n",
        "  covid.drop([\"_bairro_mapa\",\"_taxa\",\"_origem\",\"_distrito\",\"_faixa etária\",\"_sintoma_outros\",\"_sintoma_tosse\",\"_sintoma_garganta\",\"_sintoma_febre\",\"_sintoma_dispneia\",\"_srag\",\"_se_notificacao\",\"_evolução\",\"_criterio\",\"_gestante\",\"_raca\",\"_dt_sintomas\",\"_dt_evolucao\",\"_profiss_saude\",\"_etnia\",\"_dt_sintomas\",\"_comorb_cardio\",\"_comorb_cromossomica\",\"_comorb_diabetes\",\"_comorb_hemato\",\"_comorb_hepatica\",\"_comorb_imuno\",\"_comorb_neurologica\",\"_comorb_obessidade\",\"_comorb_renal\",\"_comorb_respiratoria\"],axis=1,inplace=True)\n",
        "  #covid = covid.dropna(subset=['_idade'])\n",
        "  covid = covid.dropna() # remove todas as linhas com nop minimo um atributo nulo\n",
        "\n",
        "atributos = covid.columns.values\n",
        "for i in range(len(atributos)):\n",
        "  print(atributos[i])"
      ],
      "execution_count": 199,
      "outputs": [
        {
          "output_type": "stream",
          "name": "stdout",
          "text": [
            "_dt_notificacao\n",
            "_classificacao\n",
            "_conclusao\n",
            "_idade\n",
            "_sexo\n",
            "_teste_anticorpo\n",
            "_teste_antigeno\n",
            "_teste_pcr\n",
            "_bairro\n"
          ]
        }
      ]
    },
    {
      "cell_type": "markdown",
      "metadata": {
        "id": "co-AV1LR1Tgs"
      },
      "source": [
        "---\n",
        "## Análise exploratória dos dados:\n",
        "\n",
        "\n",
        "1. Quantos exemplos e atributos há na base de dados após a limpeza e organização?\n",
        "\n",
        "\n",
        "> A limpeza e a organização da base de dados resultou em um total de 246 exemplos, cada um com 9 atributos (_dt_notificacao, _classificacao, _conclusao, _idade, _sexo, _teste_anticorpo, _teste_antigeno, _teste_pcr e _bairro), nenhum atributo de nenhum exemplo na base de dados tem valor nulo.\n",
        "\n"
      ]
    },
    {
      "cell_type": "code",
      "metadata": {
        "id": "1W7--gtK6RQe",
        "colab": {
          "base_uri": "https://localhost:8080/"
        },
        "outputId": "4bb149eb-1fc7-4afe-b4af-ac504b54e51b"
      },
      "source": [
        "# 1.1\n",
        "print('Qtd elementos: {}'.format(len(covid)))\n",
        "print('Qtd atributos: {}'.format(len(covid.columns.values)))"
      ],
      "execution_count": 200,
      "outputs": [
        {
          "output_type": "stream",
          "name": "stdout",
          "text": [
            "Qtd elementos: 246\n",
            "Qtd atributos: 9\n"
          ]
        }
      ]
    },
    {
      "cell_type": "markdown",
      "metadata": {
        "id": "mY4ihmb29V5n"
      },
      "source": [
        "\n",
        "2.   Qual a porcentagem de indivíduos recuperados em relação ao todo?"
      ]
    },
    {
      "cell_type": "code",
      "metadata": {
        "id": "ilksjf9ukfKi",
        "colab": {
          "base_uri": "https://localhost:8080/"
        },
        "outputId": "e1233182-1a03-41ea-f8fa-5528376bceea"
      },
      "source": [
        "# 1.2\n",
        "total_recuperados = len(covid[covid['_conclusao'] == 'Recuperado'])\n",
        "print(\"Total de recuperados: \" + str(total_recuperados))\n",
        "print(\"Porcentagem: \" + str(total_recuperados/len(covid)))"
      ],
      "execution_count": 201,
      "outputs": [
        {
          "output_type": "stream",
          "name": "stdout",
          "text": [
            "Total de recuperados: 245\n",
            "Porcentagem: 0.9959349593495935\n"
          ]
        }
      ]
    },
    {
      "cell_type": "markdown",
      "metadata": {
        "id": "ri9gfQuc8rVF"
      },
      "source": [
        "3.   Os casos acometeram mais indivíduos do sexo masculino ou feminino?"
      ]
    },
    {
      "cell_type": "code",
      "metadata": {
        "id": "WcGjIDRbmuMw",
        "colab": {
          "base_uri": "https://localhost:8080/"
        },
        "outputId": "790bb753-6ea2-46f1-f9ac-0afac8eccb1e"
      },
      "source": [
        "# 1.3\n",
        "total_masculino = len(covid[covid['_sexo'] == 'M'])\n",
        "total_feminino = len(covid[covid['_sexo'] == 'F'])\n",
        "print(\"total de individuos masculinos que foram acometidos: \" + str(total_masculino))\n",
        "print(\"total de individuos femininos que foram acometidos: \" + str(total_feminino))"
      ],
      "execution_count": 202,
      "outputs": [
        {
          "output_type": "stream",
          "name": "stdout",
          "text": [
            "total de individuos masculinos que foram acometidos: 83\n",
            "total de individuos femininos que foram acometidos: 163\n"
          ]
        }
      ]
    },
    {
      "cell_type": "markdown",
      "metadata": {
        "id": "l9PVR9_f9hPF"
      },
      "source": [
        "4. Qual a média e desvio padrão de idade dos indivíduos que contraíram COVID-19? Qual o\n",
        "indivíduo mais jovem e o mais idoso a contraírem tal enfermidade?"
      ]
    },
    {
      "cell_type": "code",
      "metadata": {
        "id": "phvdA6oEnkE2",
        "colab": {
          "base_uri": "https://localhost:8080/"
        },
        "outputId": "56f76d1b-9ec4-49f0-e0da-b3ec81f7172a"
      },
      "source": [
        "# 1.4\n",
        "covid = covid.dropna(subset=['_idade']) # remove todas as linhas com nop minimo um atributo nulo\n",
        "idades = covid['_idade'].sort_values()\n",
        "mais_novo = idades.iloc[0]\n",
        "mais_velho = idades.iloc[-1]\n",
        "media = idades.mean()\n",
        "desvio_padrao = idades.std()\n",
        "\n",
        "if (mais_velho > 80):\n",
        "  mais_velho = 'Acima de 80 anos'\n",
        "\n",
        "print(\"Idade do individuo mais novo: \" + str(mais_novo))\n",
        "print(\"Idade do individuo mais velho: \" + str(mais_velho))\n",
        "print(\"Media das idades: \" + str(media))\n",
        "print(\"Desvio padrao das idades: \" + str(desvio_padrao))"
      ],
      "execution_count": 203,
      "outputs": [
        {
          "output_type": "stream",
          "name": "stdout",
          "text": [
            "Idade do individuo mais novo: 19.0\n",
            "Idade do individuo mais velho: 74.0\n",
            "Media das idades: 42.142276422764226\n",
            "Desvio padrao das idades: 11.138464395169661\n"
          ]
        }
      ]
    },
    {
      "cell_type": "markdown",
      "metadata": {
        "id": "yU-Pw-3S9uPa"
      },
      "source": [
        "Devido a inconsistencias em relação aos nomes dos bairros devido a forma como foram inseridos, para padronizar os nomes dos bairros, iremos considerar que dois nomes se referem ao mesmo bairro se suas 5 primeiras letras forem iguais, e iremos remover as acentuações e considera-los em caixa alta, foi adicionado uma nova coluna na base de dados (_bairro_id) contendo o identificador do bairro de forma padronizada.\n",
        "\n",
        "5. Qual o bairro com maior incidência de casos?\n",
        "\n",
        "6. Quais os três bairros com maior incidência de casos recuperados?"
      ]
    },
    {
      "cell_type": "code",
      "metadata": {
        "id": "ojFSvUO7pNKl",
        "colab": {
          "base_uri": "https://localhost:8080/"
        },
        "outputId": "523a11e9-e3a7-4b3a-9ae9-281fc599806b"
      },
      "source": [
        "covid['_bairro_id'] = covid['_bairro'].str.extract(r'(^.{0,5})') #extrai os primeiros 5 caracteres e os adiciona em uma nova coluna em covid\n",
        "covid['_bairro_id'] = covid['_bairro_id'].str.normalize('NFKD').str.encode('ascii', errors='ignore').str.decode('utf-8') # remove as acentuações\n",
        "covid['_bairro_id'] = covid['_bairro_id'].str.upper() # torna todos os itens em caixa alta\n",
        "covid['_bairro_id'].unique()"
      ],
      "execution_count": 204,
      "outputs": [
        {
          "output_type": "execute_result",
          "data": {
            "text/plain": [
              "array(['NOVA ', 'GILBE', 'SAO F', 'LAGO ', 'FLORE', 'COMPE', 'CRESP',\n",
              "       'NOSSA', 'CHAPA', 'MORRO', 'SANTO', 'ALEIX', 'PONTA', 'REDEN',\n",
              "       'RAIZ', 'TANCR', 'DISTR', 'PARQU', 'SAO J', 'COLON', 'LIRIO',\n",
              "       'TARUM', 'SANTA', 'BETAN', 'CENTR', 'MONTE', 'LIRO ', 'CACHO',\n",
              "       'DA PA', 'PQ 10', 'DOM P', 'JAPII', 'ALVOR', 'JORGE', 'PLANA',\n",
              "       'ARMAN', 'NAO I', 'SAO G', 'CIDAD', 'PETRO', 'COROA', 'NOVO ',\n",
              "       'ADRIA', 'VILA ', 'ZUMBI', 'COL O', 'PRESI', 'APARE', 'MANOA',\n",
              "       'TERRA', 'PQ DE', 'GLORI', 'APART', 'SAO R', 'ELDOR', 'PAZ'],\n",
              "      dtype=object)"
            ]
          },
          "metadata": {},
          "execution_count": 204
        }
      ]
    },
    {
      "cell_type": "code",
      "metadata": {
        "id": "RyBJ_NkiCjba",
        "colab": {
          "base_uri": "https://localhost:8080/"
        },
        "outputId": "57ab31dc-b56c-4c0e-bda5-1f5a9f2933e6"
      },
      "source": [
        "# 1.5 e 1.6\n",
        "maior_freq = covid['_bairro_id'].mode()\n",
        "recuperados = covid[covid['_conclusao'] == 'Recuperado']\n",
        "freqs_recuperados = recuperados['_bairro_id'].value_counts()\n",
        "print(\"Bairro com a maior frequencia: \" + maior_freq[0])\n",
        "print(\"\\nOs 3 bairros com a maior incidencia de casos recuperados\")\n",
        "print(freqs_recuperados.index[0])\n",
        "print(freqs_recuperados.index[1])\n",
        "print(freqs_recuperados.index[2])"
      ],
      "execution_count": 205,
      "outputs": [
        {
          "output_type": "stream",
          "name": "stdout",
          "text": [
            "Bairro com a maior frequencia: SAO J\n",
            "\n",
            "Os 3 bairros com a maior incidencia de casos recuperados\n",
            "SAO J\n",
            "COMPE\n",
            "CIDAD\n"
          ]
        }
      ]
    },
    {
      "cell_type": "markdown",
      "metadata": {
        "id": "Hll0bA9J_ktB"
      },
      "source": [
        "7. Quais os tipos de testes efetuados, segundo os dados? Indique os dados de maneira quantitativa e percentual."
      ]
    },
    {
      "cell_type": "code",
      "metadata": {
        "id": "CpN6RxXIqSlc",
        "colab": {
          "base_uri": "https://localhost:8080/"
        },
        "outputId": "d296bb9c-91bc-4a31-de5f-4af3968387b8"
      },
      "source": [
        " # 1.7\n",
        "num_anticorpo = covid['_teste_anticorpo'].sum()\n",
        "num_antigeno = covid['_teste_antigeno'].sum()\n",
        "num_pcr = covid['_teste_pcr'].sum()\n",
        "total = num_anticorpo + num_antigeno + num_pcr\n",
        "print(\"Testes anticorpo\\nTotal de aplicacoes: \" + str(num_anticorpo) + \"\\nProporcao: \" + str((num_anticorpo/total) * 100) + \" %\\n\")\n",
        "print(\"Testes antigeno\\nTotal de aplicacoes: \" + str(num_antigeno) + \"\\nProporcao: \" + str((num_antigeno/total) * 100) + \" %\\n\")\n",
        "print(\"Testes pcr\\nTotal de aplicacoes: \" + str(num_pcr) + \"\\nProporcao: \" + str((num_pcr/total) * 100) + \" %\\n\")"
      ],
      "execution_count": 206,
      "outputs": [
        {
          "output_type": "stream",
          "name": "stdout",
          "text": [
            "Testes anticorpo\n",
            "Total de aplicacoes: 350.0\n",
            "Proporcao: 34.89531405782652 %\n",
            "\n",
            "Testes antigeno\n",
            "Total de aplicacoes: 287.0\n",
            "Proporcao: 28.614157527417746 %\n",
            "\n",
            "Testes pcr\n",
            "Total de aplicacoes: 366.0\n",
            "Proporcao: 36.49052841475574 %\n",
            "\n"
          ]
        }
      ]
    },
    {
      "cell_type": "markdown",
      "metadata": {
        "id": "RBNNtny8_s0a"
      },
      "source": [
        "8. Qual taxa de letalidade pode ser calculada a partir do conjunto de dados? Para calcular esta taxa, considere a fração do total de óbitos pelo total de casos."
      ]
    },
    {
      "cell_type": "code",
      "metadata": {
        "id": "dJOqszFwdK5x",
        "colab": {
          "base_uri": "https://localhost:8080/"
        },
        "outputId": "3d0db9c0-b58d-4fe0-e0e8-a7a0df3085a2"
      },
      "source": [
        "#1.8\n",
        "total_obitos = len(covid[covid['_conclusao'] != 'Recuperado'])\n",
        "print(\"Total de obitos: \" + str(total_obitos))\n",
        "print(\"Porcentagem: \" + str(total_obitos/len(covid)))"
      ],
      "execution_count": 207,
      "outputs": [
        {
          "output_type": "stream",
          "name": "stdout",
          "text": [
            "Total de obitos: 1\n",
            "Porcentagem: 0.0040650406504065045\n"
          ]
        }
      ]
    },
    {
      "cell_type": "markdown",
      "metadata": {
        "id": "i2VvvQUL_yrn"
      },
      "source": [
        "9. Qual o tipo de correlação, mediante coeficiente de correlação de Pearson, entre a idade e o\n",
        "número de casos? Para responder a esta pergunte, agrupe o número de casos por idade e efetue\n",
        "o cálculo de tal coeficiente. Indique, a partir do resultado, a natureza desta correlação, se é\n",
        "positiva ou negativa, e qual sua intensidade."
      ]
    },
    {
      "cell_type": "code",
      "metadata": {
        "id": "btG8phiJrFwf",
        "colab": {
          "base_uri": "https://localhost:8080/",
          "height": 173
        },
        "outputId": "4a3571c3-4a29-4200-dbb8-0532e70d400a"
      },
      "source": [
        "#1.9\n",
        "#não tenho certeza se é isso o que ela pediu\n",
        "idade_sort = covid.sort_values(by=['_idade'])\n",
        "idade_sort.corr(method='pearson')"
      ],
      "execution_count": 208,
      "outputs": [
        {
          "output_type": "execute_result",
          "data": {
            "text/html": [
              "<div>\n",
              "<style scoped>\n",
              "    .dataframe tbody tr th:only-of-type {\n",
              "        vertical-align: middle;\n",
              "    }\n",
              "\n",
              "    .dataframe tbody tr th {\n",
              "        vertical-align: top;\n",
              "    }\n",
              "\n",
              "    .dataframe thead th {\n",
              "        text-align: right;\n",
              "    }\n",
              "</style>\n",
              "<table border=\"1\" class=\"dataframe\">\n",
              "  <thead>\n",
              "    <tr style=\"text-align: right;\">\n",
              "      <th></th>\n",
              "      <th>_idade</th>\n",
              "      <th>_teste_anticorpo</th>\n",
              "      <th>_teste_antigeno</th>\n",
              "      <th>_teste_pcr</th>\n",
              "    </tr>\n",
              "  </thead>\n",
              "  <tbody>\n",
              "    <tr>\n",
              "      <th>_idade</th>\n",
              "      <td>1.000000</td>\n",
              "      <td>0.053952</td>\n",
              "      <td>0.036098</td>\n",
              "      <td>0.118860</td>\n",
              "    </tr>\n",
              "    <tr>\n",
              "      <th>_teste_anticorpo</th>\n",
              "      <td>0.053952</td>\n",
              "      <td>1.000000</td>\n",
              "      <td>-0.065584</td>\n",
              "      <td>0.184248</td>\n",
              "    </tr>\n",
              "    <tr>\n",
              "      <th>_teste_antigeno</th>\n",
              "      <td>0.036098</td>\n",
              "      <td>-0.065584</td>\n",
              "      <td>1.000000</td>\n",
              "      <td>0.091180</td>\n",
              "    </tr>\n",
              "    <tr>\n",
              "      <th>_teste_pcr</th>\n",
              "      <td>0.118860</td>\n",
              "      <td>0.184248</td>\n",
              "      <td>0.091180</td>\n",
              "      <td>1.000000</td>\n",
              "    </tr>\n",
              "  </tbody>\n",
              "</table>\n",
              "</div>"
            ],
            "text/plain": [
              "                    _idade  _teste_anticorpo  _teste_antigeno  _teste_pcr\n",
              "_idade            1.000000          0.053952         0.036098    0.118860\n",
              "_teste_anticorpo  0.053952          1.000000        -0.065584    0.184248\n",
              "_teste_antigeno   0.036098         -0.065584         1.000000    0.091180\n",
              "_teste_pcr        0.118860          0.184248         0.091180    1.000000"
            ]
          },
          "metadata": {},
          "execution_count": 208
        }
      ]
    },
    {
      "cell_type": "markdown",
      "metadata": {
        "id": "tKLGQxJ__6-D"
      },
      "source": [
        "---\n",
        "## Visualização de dados:\n",
        "\n",
        "\n",
        "1. Construa um histograma denotando a quantidade de casos nos 10 bairros em que houve mais casos registrados. Inclua todos os bairros remanescentes em uma categoria denominada “Outros.” Denote as informações de maneira percentual.\n"
      ]
    },
    {
      "cell_type": "code",
      "metadata": {
        "id": "dOt0L7yoda_2",
        "colab": {
          "base_uri": "https://localhost:8080/",
          "height": 338
        },
        "outputId": "7de0c049-d32d-4983-e421-b292dbbe1921"
      },
      "source": [
        "# 2.1\n",
        "import matplotlib.pyplot as plt\n",
        "\n",
        "nomes = []\n",
        "valores = []\n",
        "total_casos = len(covid)\n",
        "soma = 0\n",
        "\n",
        "ordem_freq = covid['_bairro_id'].value_counts()\n",
        "\n",
        "for i in range(10):\n",
        "  valor = 100 * (ordem_freq[i]/total_casos)\n",
        "  soma = soma + valor\n",
        "  valores.append(valor)\n",
        "  nomes.append(ordem_freq.index[i])\n",
        "\n",
        "valores.append(100 - soma)\n",
        "nomes.append('OUTROS')\n",
        "\n",
        "figura1, ax_1 = plt.subplots(figsize=(10, 5))\n",
        "ax_1.bar(nomes, valores)\n",
        "ax_1.set_ylabel('Quantidade de casos (%)', size=14)\n",
        "ax_1.set_xlabel('Bairros', size=14)\n",
        "figura1.show()"
      ],
      "execution_count": 209,
      "outputs": [
        {
          "output_type": "display_data",
          "data": {
            "image/png": "[encoded data removed]",
            "text/plain": [
              "<Figure size 720x360 with 1 Axes>"
            ]
          },
          "metadata": {
            "needs_background": "light"
          }
        }
      ]
    },
    {
      "cell_type": "markdown",
      "metadata": {
        "id": "OsHQx-szvOpm"
      },
      "source": [
        "2. Denote, por sexo, o boxplot da idade dos casos confirmados. Há outliers?\n",
        "\n",
        "> Existe um outlier no sexo feminino"
      ]
    },
    {
      "cell_type": "code",
      "metadata": {
        "id": "JnbkKUKMdeYu",
        "colab": {
          "base_uri": "https://localhost:8080/",
          "height": 281
        },
        "outputId": "0c4cade1-c087-41ca-f93f-79adad41ef88"
      },
      "source": [
        "# 2.2 \n",
        "masculino = covid[covid[\"_sexo\"] == \"M\"]\n",
        "masculino = np.array(masculino['_idade'], dtype=object)\n",
        "feminino = covid[covid[\"_sexo\"] == \"F\"]\n",
        "feminino = np.array(feminino['_idade'], dtype=object)\n",
        "\n",
        "labels = ['Masculino', 'Feminino']\n",
        "\n",
        "data = np.array([masculino, feminino], dtype=object)\n",
        "\n",
        "figura_2, ax_2 = plt.subplots()\n",
        "ax_2.set_title('Boxplot da idade por sexo')\n",
        "ax_2.boxplot(data, labels=labels)\n",
        "figura_2.show()"
      ],
      "execution_count": 210,
      "outputs": [
        {
          "output_type": "display_data",
          "data": {
            "image/png": "[encoded data removed]",
            "text/plain": [
              "<Figure size 432x288 with 1 Axes>"
            ]
          },
          "metadata": {
            "needs_background": "light"
          }
        }
      ]
    },
    {
      "cell_type": "markdown",
      "metadata": {
        "id": "5CGT_e0avS3D"
      },
      "source": [
        "3. Denote em um gráfico de barras o número de novos casos por dia, considerando os 10 últimos dias existentes na base de dados."
      ]
    },
    {
      "cell_type": "code",
      "metadata": {
        "id": "kFui8L2adfX-",
        "colab": {
          "base_uri": "https://localhost:8080/",
          "height": 395
        },
        "outputId": "f668116a-9254-41f8-ca9d-3c9e0fe66ca3"
      },
      "source": [
        "# 2.3\n",
        "nomes = []\n",
        "valores = []\n",
        "\n",
        "dates = covid['_dt_notificacao'].dropna() # Exclui linhas com elementos vazios ou nulos\n",
        "dates = pd.to_datetime(dates, format='%d/%m/%Y %H:%M')\n",
        "data_qtd = dates.value_counts()\n",
        "data_ordem = dates.sort_values(ascending = False)\n",
        "data_ordem = data_ordem.unique()\n",
        "\n",
        "for i in range(9, -1, -1):\n",
        "  valores.append(data_qtd[data_ordem[i]])\n",
        "  nomes.append(data_ordem[i])\n",
        "\n",
        "figura3, ax_3 = plt.subplots(figsize=(8, 5))\n",
        "ax_3.bar(nomes, valores)\n",
        "ax_3.set(xlabel='Dias', ylabel='Quantidade', title='Novos casos nos últimos 10 dias')\n",
        "plt.xticks(rotation=60)\n",
        "figura3.show()"
      ],
      "execution_count": 211,
      "outputs": [
        {
          "output_type": "display_data",
          "data": {
            "image/png": "[encoded data removed]",
            "text/plain": [
              "<Figure size 576x360 with 1 Axes>"
            ]
          },
          "metadata": {
            "needs_background": "light"
          }
        }
      ]
    },
    {
      "cell_type": "markdown",
      "metadata": {
        "id": "8YuQV1thvY-d"
      },
      "source": [
        "4. Repita o gráfico anterior considerando o número de casos recuperados."
      ]
    },
    {
      "cell_type": "code",
      "metadata": {
        "id": "XhEtfElNdhU9",
        "colab": {
          "base_uri": "https://localhost:8080/",
          "height": 395
        },
        "outputId": "d09da261-85c4-4695-98d0-2cdf2b96a6b6"
      },
      "source": [
        "# 2.4\n",
        "nomes = []\n",
        "valores = []\n",
        "\n",
        "recuperados = covid[covid['_conclusao'] == 'Recuperado']\n",
        "dates = recuperados['_dt_notificacao'].dropna() # Exclui linhas com elementos vazios ou nulos\n",
        "dates = pd.to_datetime(dates, format='%d/%m/%Y %H:%M')\n",
        "data_qtd = dates.value_counts()\n",
        "data_ordem = dates.sort_values(ascending = False)\n",
        "data_ordem = data_ordem.unique()\n",
        "\n",
        "for i in range(9, -1, -1):\n",
        "  valores.append(data_qtd[data_ordem[i]])\n",
        "  nomes.append(data_ordem[i])\n",
        "\n",
        "figura3, ax_3 = plt.subplots(figsize=(8, 5))\n",
        "ax_3.bar(nomes, valores)\n",
        "ax_3.set(xlabel='Dias', ylabel='Quantidade', title='Casos recuperados últimos 10 dias')\n",
        "plt.xticks(rotation=60)\n",
        "figura3.show()"
      ],
      "execution_count": 212,
      "outputs": [
        {
          "output_type": "display_data",
          "data": {
            "image/png": "[encoded data removed]",
            "text/plain": [
              "<Figure size 576x360 with 1 Axes>"
            ]
          },
          "metadata": {
            "needs_background": "light"
          }
        }
      ]
    },
    {
      "cell_type": "markdown",
      "metadata": {
        "id": "62rjP1M1vdy8"
      },
      "source": [
        "5. Construa um histograma que denote a quantidade percentual de casos por grupo etário, considerando que cada grupo contempla uma década (0 a 10 anos, 11 a 20 anos, etc.)."
      ]
    },
    {
      "cell_type": "code",
      "metadata": {
        "id": "Ny2PrzlaeJQB",
        "colab": {
          "base_uri": "https://localhost:8080/",
          "height": 380
        },
        "outputId": "ff9d3500-88f2-4f26-91be-0d4879a5240b"
      },
      "source": [
        "# 2.5\n",
        "idades = covid[\"_idade\"]\n",
        "idades = idades.value_counts()\n",
        "\n",
        "nomes = []\n",
        "nomes.append('0 a 10')\n",
        "nomes.append('11 a 20')\n",
        "nomes.append('21 a 30')\n",
        "nomes.append('31 a 40')\n",
        "nomes.append('41 a 50')\n",
        "nomes.append('51 a 60')\n",
        "nomes.append('61 a 70')\n",
        "nomes.append('71 a 80')\n",
        "nomes.append('81 ou +')\n",
        "\n",
        "valores = []\n",
        "valores.append(0)\n",
        "valores.append(0)\n",
        "valores.append(0)\n",
        "valores.append(0)\n",
        "valores.append(0)\n",
        "valores.append(0)\n",
        "valores.append(0)\n",
        "valores.append(0)\n",
        "valores.append(0)\n",
        "\n",
        "for i in range(len(idades)):\n",
        "  if (idades.index[i] >= 0 and idades.index[i] <= 10):\n",
        "    valores[0] = valores[0] + idades[idades.index[i]]\n",
        "  if (idades.index[i] >= 11 and idades.index[i] <= 20):\n",
        "    valores[1] = valores[1] + idades[idades.index[i]]\n",
        "  if (idades.index[i] >= 21 and idades.index[i] <= 30):\n",
        "    valores[2] = valores[2] + idades[idades.index[i]]\n",
        "  if (idades.index[i] >= 31 and idades.index[i] <= 40):\n",
        "    valores[3] = valores[3] + idades[idades.index[i]]\n",
        "  if (idades.index[i] >= 41 and idades.index[i] <= 50):\n",
        "    valores[4] = valores[4] + idades[idades.index[i]]\n",
        "  if (idades.index[i] >= 51 and idades.index[i] <= 60):\n",
        "    valores[5] = valores[5] + idades[idades.index[i]]\n",
        "  if (idades.index[i] >= 61 and idades.index[i] <= 70):\n",
        "    valores[6] = valores[6] + idades[idades.index[i]]\n",
        "  if (idades.index[i] >= 71 and idades.index[i] <= 80):\n",
        "    valores[7] = valores[7] + idades[idades.index[i]]\n",
        "  if (idades.index[i] >= 81):\n",
        "    valores[8] = valores[8] + idades[idades.index[i]]\n",
        "\n",
        "total = len(covid)\n",
        "\n",
        "for i in range(len(valores)):\n",
        "  valores[i] = (valores[i] * 100) / total\n",
        "\n",
        "figura5, ax_5 = plt.subplots(figsize=(8, 5))\n",
        "ax_5.bar(nomes, valores)\n",
        "ax_5.set(xlabel='Grupo etário', ylabel='Quantidade percentual', title='Casos por grupo etário')\n",
        "plt.xticks(rotation=60)\n",
        "figura5.show()"
      ],
      "execution_count": 213,
      "outputs": [
        {
          "output_type": "display_data",
          "data": {
            "image/png": "[encoded data removed]",
            "text/plain": [
              "<Figure size 576x360 with 1 Axes>"
            ]
          },
          "metadata": {
            "needs_background": "light"
          }
        }
      ]
    },
    {
      "cell_type": "markdown",
      "metadata": {
        "id": "YzVFNcOMvlqY"
      },
      "source": [
        "6. Elabore um gráfico que mostra o cumulativo de casos notificados ao longo do tempo."
      ]
    },
    {
      "cell_type": "code",
      "metadata": {
        "id": "T41P5tCjeTNv",
        "colab": {
          "base_uri": "https://localhost:8080/",
          "height": 381
        },
        "outputId": "4e8f8184-a1b7-49ab-8f89-188d388b29c0"
      },
      "source": [
        "# 2.6\n",
        "nomes = []\n",
        "valores = []\n",
        "\n",
        "dates = covid['_dt_notificacao'].dropna()         # Exclui linhas com elementos vazios ou nulos\n",
        "dates = pd.to_datetime(dates, format='%d/%m/%Y %H:%M')\n",
        "data_qtd = dates.value_counts()                   # Extrai a quantidade de casos notificados por data\n",
        "data_ordem = dates.sort_values(ascending = False) # Ordena as datas\n",
        "\n",
        "figura6, ax_6 = plt.subplots(figsize=(8, 5))\n",
        "ax_6.hist(data_ordem, 40, rwidth=0.9)\n",
        "ax_6.set(xlabel='Dias', ylabel='Quantidade', title='Cumulativo de casos notificados ao longo do tempo')\n",
        "plt.xticks(rotation=60)\n",
        "figura6.show()"
      ],
      "execution_count": 214,
      "outputs": [
        {
          "output_type": "display_data",
          "data": {
            "image/png": "[encoded data removed]",
            "text/plain": [
              "<Figure size 576x360 with 1 Axes>"
            ]
          },
          "metadata": {
            "needs_background": "light"
          }
        }
      ]
    },
    {
      "cell_type": "markdown",
      "metadata": {
        "id": "dacEqp0Jv5ya"
      },
      "source": [
        "7. Faça um gráfico do tipo scatterplot que denote a idade versus o número total de casos registrado para aquela idade. Aproveite o processamento efetuado para o cálculo da correlação. É possível observar alguma tendência?\n",
        "\n",
        "\n",
        "> Existe uma tendência de uma maior quantidade de casos nas idades entre 32 e 45 anos.\n",
        "\n"
      ]
    },
    {
      "cell_type": "code",
      "metadata": {
        "id": "3ToMQPJW-r2i",
        "colab": {
          "base_uri": "https://localhost:8080/",
          "height": 350
        },
        "outputId": "f0de48a2-aefd-4463-cd06-519a55c02e6f"
      },
      "source": [
        "# 2.7\n",
        "dados = covid[\"_idade\"]\n",
        "dados = dados.value_counts() # A frequência de casos por idade\n",
        "\n",
        "idade = []\n",
        "frequencia = []\n",
        "\n",
        "for i in range(len(dados)):\n",
        "  idade.append(dados.index[i])\n",
        "  frequencia.append(dados[dados.index[i]])\n",
        "\n",
        "figura6, ax_6 = plt.subplots(figsize=(8, 5))\n",
        "ax_6.scatter(idade, frequencia)\n",
        "ax_6.set(xlabel='Idade', ylabel='Número de casos', title='Idade vs número de casos para esta idade')\n",
        "figura6.show()"
      ],
      "execution_count": 215,
      "outputs": [
        {
          "output_type": "display_data",
          "data": {
            "image/png": "[encoded data removed]",
            "text/plain": [
              "<Figure size 576x360 with 1 Axes>"
            ]
          },
          "metadata": {
            "needs_background": "light"
          }
        }
      ]
    },
    {
      "cell_type": "markdown",
      "metadata": {
        "id": "OVQmjUBS6mr3"
      },
      "source": [
        "---\n",
        "## Tarefa de Classificação:\n",
        "\n",
        "\n",
        ">  A tarefa de classificação proposta seria determinar com base nos sintomas, comorbidades e idade de um paciente se ele virá a necessitar de uma internação no hospital, ou em uma UTI, ou se ele pode realizar o tratamento em casa.\n",
        "\n",
        "\n",
        "\n",
        "*   **Atributos Preditores:**\n",
        "  1.   _idade;\n",
        "  2.   _gestante;\n",
        "  3.   _comorb_cardio;\n",
        "  4.   _comorb_cromossomica;\n",
        "  5.   _comorb_diabetes;\n",
        "  6.   _comorb_hemato;\n",
        "  7.   _comorb_hepatica;\n",
        "  8.   _comorb_imuno;\n",
        "  9.    _comorb_neurologica;\n",
        "  10.   _comorb_obessidade;\n",
        "  11.   _comorb_renal;\n",
        "  12.   _comorb_respiratoria;\n",
        "  13.   _sintoma_dispneia;\n",
        "  14.   _sintoma_febre;\n",
        "  15.   _sintoma_garganta;\n",
        "  16.   _sintoma_tosse;\n",
        "  17.   _sintoma_outros;\n",
        "  18.   _srag;\n",
        "\n",
        "\n",
        "\n",
        "*   **Atributo-Alvo:** _evolução (tratamento em casa, internação ou internação em UTI)\n",
        "\n",
        "\n",
        "\n",
        "*   **Metricas de desempenho:** Como se trata de uma tarefa de classificar multi-classes, e como a quantidade de classes é desbalanceada, será necessario usar a tecnica de micro-averaging\n",
        "\n",
        "  1.   Precisão, para determinar a taxa de acertos na classe positiva;\n",
        "  2.   Revocação, para determinar a taxa de acertos entre os elementos considerados da classe positiva.\n",
        "  3.   Especificidade, para determinar a taxa de acertos entre os elementos considerados na classe negativa\n",
        "  5.   F-Score, a média harmonica\n",
        "  6.   G-Score, pois a quantidade dos exemplos das classes é muito desbalanceadas\n",
        "\n",
        "\n"
      ]
    },
    {
      "cell_type": "markdown",
      "metadata": {
        "id": "fs8jr-ON6cMo"
      },
      "source": [
        "---\n",
        "## Tarefa de Regressão:\n",
        "  A tarefa de regressão proposta seria prever a taxa de transmissão em um bairro com base nas datas de notificação, evolução e sintoma, Srag, classificação e no numero total de individuos por bairro.\n",
        "\n",
        "\n",
        "  *   **Atributos Preditores:**\n",
        "  1.   _dt_evolucao;\n",
        "  2.   _dt_notificacao;\n",
        "  3.   _dt_sintomas;\n",
        "  4.   _classificacao;\n",
        "  5.   _srag;\n",
        "  6.   _bairro;\n",
        "  7.   _bairro_mapa;\n",
        "  8.   _distrito;\n",
        "\n",
        "\n",
        "\n",
        "*   **Atributo-Alvo:** _taxa"
      ]
    }
  ]
}
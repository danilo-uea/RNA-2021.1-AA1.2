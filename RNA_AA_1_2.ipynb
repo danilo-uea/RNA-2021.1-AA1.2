{
  "nbformat": 4,
  "nbformat_minor": 0,
  "metadata": {
    "colab": {
      "name": "RNA_AA_1_2.ipynb",
      "provenance": [],
      "authorship_tag": "ABX9TyMze95pPVHQa0Ux+mzS9pvJ",
      "include_colab_link": true
    },
    "kernelspec": {
      "display_name": "Python 3",
      "name": "python3"
    },
    "language_info": {
      "name": "python"
    }
  },
  "cells": [
    {
      "cell_type": "markdown",
      "metadata": {
        "id": "view-in-github",
        "colab_type": "text"
      },
      "source": [
        "<a href=\"https://colab.research.google.com/github/danilo-uea/RNA-2021.1-AA1.2/blob/main/RNA_AA_1_2.ipynb\" target=\"_parent\"><img src=\"https://colab.research.google.com/assets/colab-badge.svg\" alt=\"Open In Colab\"/></a>"
      ]
    },
    {
      "cell_type": "code",
      "metadata": {
        "colab": {
          "background_save": true
        },
        "id": "bqka2c4gu2w7"
      },
      "source": [
        "import pandas as pd\n",
        "import numpy as np"
      ],
      "execution_count": null,
      "outputs": []
    },
    {
      "cell_type": "code",
      "metadata": {
        "colab": {
          "base_uri": "https://localhost:8080/"
        },
        "id": "hzWUzvm8U8xK",
        "outputId": "569ce14c-fc57-4e58-8f00-bc40e020eda6"
      },
      "source": [
        "covid = pd.read_csv(\"/content/drive/MyDrive/dados_colab/Redes Neurais II/Manaus.csv\", sep = \";\")"
      ],
      "execution_count": 20,
      "outputs": [
        {
          "output_type": "stream",
          "name": "stderr",
          "text": [
            "/usr/local/lib/python3.7/dist-packages/IPython/core/interactiveshell.py:2718: DtypeWarning: Columns (0,6,7,8,9,10,11,12,13,14,15,16,17,18,22,23,26,27,28,29,30,31) have mixed types.Specify dtype option on import or set low_memory=False.\n",
            "  interactivity=interactivity, compiler=compiler, result=result)\n"
          ]
        }
      ]
    },
    {
      "cell_type": "code",
      "metadata": {
        "colab": {
          "base_uri": "https://localhost:8080/"
        },
        "id": "7Dwd4HXUYcR2",
        "outputId": "284e0687-1643-481c-b8d3-3bad09ea9d3d"
      },
      "source": [
        "print(covid.columns.values)"
      ],
      "execution_count": 25,
      "outputs": [
        {
          "output_type": "stream",
          "name": "stdout",
          "text": [
            "['_dt_evolucao' '_dt_notificacao' '_dt_sintomas' '_classificacao'\n",
            " '_conclusao' '_origem' '_comorb_cardio' '_comorb_cromossomica'\n",
            " '_comorb_diabetes' '_comorb_hemato' '_comorb_hepatica' '_comorb_imuno'\n",
            " '_comorb_neurologica' '_comorb_obessidade' '_comorb_renal'\n",
            " '_comorb_respiratoria' '_criterio' '_etnia' '_evolução' '_idade'\n",
            " '_faixa etária' '_gestante' '_profiss_saude' '_raca' '_se_notificacao'\n",
            " '_sexo' '_sintoma_dispneia' '_sintoma_febre' '_sintoma_garganta'\n",
            " '_sintoma_tosse' '_sintoma_outros' '_srag' '_teste_anticorpo'\n",
            " '_teste_antigeno' '_teste_pcr' '_bairro' '_bairro_mapa' '_distrito'\n",
            " '_taxa']\n"
          ]
        }
      ]
    }
  ]
}